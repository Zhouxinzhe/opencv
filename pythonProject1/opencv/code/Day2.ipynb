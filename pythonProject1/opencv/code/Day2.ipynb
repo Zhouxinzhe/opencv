{
 "cells": [
  {
   "cell_type": "code",
   "execution_count": 1,
   "id": "initial_id",
   "metadata": {
    "collapsed": true,
    "ExecuteTime": {
     "end_time": "2024-01-22T02:21:24.907549800Z",
     "start_time": "2024-01-22T02:21:24.721469900Z"
    }
   },
   "outputs": [],
   "source": [
    "import cv2\n",
    "img = cv2.imread('../media/scenery.jpg')\n",
    "cv2.imshow('Original', img)"
   ]
  },
  {
   "cell_type": "code",
   "outputs": [],
   "source": [],
   "metadata": {
    "collapsed": false
   },
   "id": "f013647eb176bd85"
  }
 ],
 "metadata": {
  "kernelspec": {
   "display_name": "Python 3",
   "language": "python",
   "name": "python3"
  },
  "language_info": {
   "codemirror_mode": {
    "name": "ipython",
    "version": 2
   },
   "file_extension": ".py",
   "mimetype": "text/x-python",
   "name": "python",
   "nbconvert_exporter": "python",
   "pygments_lexer": "ipython2",
   "version": "2.7.6"
  }
 },
 "nbformat": 4,
 "nbformat_minor": 5
}
