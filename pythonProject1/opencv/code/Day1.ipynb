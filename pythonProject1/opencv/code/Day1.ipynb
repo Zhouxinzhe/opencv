{
 "cells": [
  {
   "cell_type": "markdown",
   "source": [
    "* cv2.VideoCapture可以捕获摄像头，用数字来控制不同设备，例如1、0\n",
    "* 如果是视频文件，直接指定好路径"
   ],
   "metadata": {
    "collapsed": false
   },
   "id": "82792d139274a32a"
  },
  {
   "cell_type": "code",
   "outputs": [],
   "source": [
    "import cv2\n",
    "vc = cv2.VideoCapture('../media/video.mp4')\n",
    "# 检查是否打开正确\n",
    "if vc.isOpened():\n",
    "    isopen, Frame = vc.read()\n",
    "else:\n",
    "    isopen = False"
   ],
   "metadata": {
    "collapsed": false,
    "ExecuteTime": {
     "end_time": "2024-01-21T08:41:40.777396300Z",
     "start_time": "2024-01-21T08:41:40.694874800Z"
    }
   },
   "id": "a5c05b31c5089d7d",
   "execution_count": 9
  },
  {
   "cell_type": "code",
   "outputs": [],
   "source": [
    "while isopen:\n",
    "    ret, Frame = vc.read()\n",
    "    if Frame is None:\n",
    "        break\n",
    "    if ret:\n",
    "        gray = cv2.cvtColor(Frame, cv2.COLOR_BGR2GRAY)\n",
    "        cv2.imshow('frame', gray)\n",
    "        if cv2.waitKey(10) & 0xFF == 27:\n",
    "            break\n",
    "vc.release()\n",
    "cv2.destroyAllWindows()"
   ],
   "metadata": {
    "collapsed": false,
    "ExecuteTime": {
     "end_time": "2024-01-21T08:41:40.794403500Z",
     "start_time": "2024-01-21T08:41:40.779394900Z"
    }
   },
   "id": "45ff3b6c2f0182b1",
   "execution_count": 10
  },
  {
   "cell_type": "code",
   "outputs": [],
   "source": [],
   "metadata": {
    "collapsed": false,
    "ExecuteTime": {
     "end_time": "2024-01-21T08:41:40.811966900Z",
     "start_time": "2024-01-21T08:41:40.793399800Z"
    }
   },
   "id": "52ecea2164f531dc",
   "execution_count": 10
  }
 ],
 "metadata": {
  "kernelspec": {
   "display_name": "Python 3",
   "language": "python",
   "name": "python3"
  },
  "language_info": {
   "codemirror_mode": {
    "name": "ipython",
    "version": 2
   },
   "file_extension": ".py",
   "mimetype": "text/x-python",
   "name": "python",
   "nbconvert_exporter": "python",
   "pygments_lexer": "ipython2",
   "version": "2.7.6"
  }
 },
 "nbformat": 4,
 "nbformat_minor": 5
}
